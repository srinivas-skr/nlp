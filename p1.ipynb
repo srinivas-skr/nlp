{
 "cells": [
  {
   "cell_type": "code",
   "execution_count": 2,
   "id": "f324829c-6fb0-4a7f-963a-1c9449130685",
   "metadata": {},
   "outputs": [],
   "source": [
    "import numpy as np"
   ]
  },
  {
   "cell_type": "code",
   "execution_count": 7,
   "id": "2a9f9e57-f72f-489d-9aa9-95d86fa1f189",
   "metadata": {},
   "outputs": [
    {
     "name": "stdout",
     "output_type": "stream",
     "text": [
      "Final outputs after training:\n",
      "\n",
      "--- AND Gate ---\n",
      "Input: [0 0], Output: 0.0000, Expected: 0\n",
      "Input: [0 1], Output: 0.0084, Expected: 0\n",
      "Input: [1 0], Output: 0.0084, Expected: 0\n",
      "Input: [1 1], Output: 0.9883, Expected: 1\n",
      "\n",
      "--- OR Gate ---\n",
      "Input: [0 0], Output: 0.0085, Expected: 0\n",
      "Input: [0 1], Output: 0.9966, Expected: 1\n",
      "Input: [1 0], Output: 0.9966, Expected: 1\n",
      "Input: [1 1], Output: 1.0000, Expected: 1\n"
     ]
    }
   ],
   "source": [
    "# Input features\n",
    "x = np.array([[0, 0], [0, 1], [1, 0], [1, 1]])\n",
    "\n",
    "# Expected outputs for AND gate\n",
    "y_and = np.array([0, 0, 0, 1])\n",
    "\n",
    "# Expected outputs for OR gate\n",
    "y_or = np.array([0, 1, 1, 1])\n",
    "\n",
    "# Initialize weights and bias for AND gate\n",
    "w1_and = 0.2\n",
    "w2_and = 0.4\n",
    "bias_and = 0.1\n",
    "\n",
    "# Initialize weights and bias for OR gate\n",
    "w1_or = 0.2\n",
    "w2_or = 0.4\n",
    "bias_or = 0.1\n",
    "\n",
    "learning_rate = 0.1\n",
    "\n",
    "# Sigmoid activation function\n",
    "def sigmoid(z):\n",
    "    return 1 / (1 + np.exp(-z))\n",
    "\n",
    "# Training the perceptrons\n",
    "for epoch in range(6000):\n",
    "    for i in range(4):\n",
    "        # --- Training AND gate perceptron ---\n",
    "        # Weighted sum\n",
    "        ans_and = x[i][0] * w1_and + x[i][1] * w2_and + bias_and\n",
    "        # Activation\n",
    "        result_and = sigmoid(ans_and)\n",
    "        # Error calculation\n",
    "        error_and = y_and[i] - result_and\n",
    "        # Weight and bias updates\n",
    "        w1_and += learning_rate * error_and * x[i][0]\n",
    "        w2_and += learning_rate * error_and * x[i][1]\n",
    "        bias_and += learning_rate * error_and\n",
    "\n",
    "        # --- Training OR gate perceptron ---\n",
    "        # Weighted sum\n",
    "        ans_or = x[i][0] * w1_or + x[i][1] * w2_or + bias_or\n",
    "        # Activation\n",
    "        result_or = sigmoid(ans_or)\n",
    "        # Error calculation\n",
    "        error_or = y_or[i] - result_or\n",
    "        # Weight and bias updates\n",
    "        w1_or += learning_rate * error_or * x[i][0]\n",
    "        w2_or += learning_rate * error_or * x[i][1]\n",
    "        bias_or += learning_rate * error_or\n",
    "\n",
    "# Display final outputs after training\n",
    "print(\"Final outputs after training:\")\n",
    "\n",
    "print(\"\\n--- AND Gate ---\")\n",
    "for i in range(4):\n",
    "    ans_and = x[i][0] * w1_and + x[i][1] * w2_and + bias_and\n",
    "    result_and = sigmoid(ans_and)\n",
    "    print(f\"Input: {x[i]}, Output: {result_and:.4f}, Expected: {y_and[i]}\")\n",
    "\n",
    "print(\"\\n--- OR Gate ---\")\n",
    "for i in range(4):\n",
    "    ans_or = x[i][0] * w1_or + x[i][1] * w2_or + bias_or\n",
    "    result_or = sigmoid(ans_or)\n",
    "    print(f\"Input: {x[i]}, Output: {result_or:.4f}, Expected: {y_or[i]}\")\n"
   ]
  },
  {
   "cell_type": "code",
   "execution_count": null,
   "id": "5795d8d8-eb1a-43af-b510-4df57af42aee",
   "metadata": {},
   "outputs": [],
   "source": []
  }
 ],
 "metadata": {
  "kernelspec": {
   "display_name": "Python 3 (ipykernel)",
   "language": "python",
   "name": "python3"
  },
  "language_info": {
   "codemirror_mode": {
    "name": "ipython",
    "version": 3
   },
   "file_extension": ".py",
   "mimetype": "text/x-python",
   "name": "python",
   "nbconvert_exporter": "python",
   "pygments_lexer": "ipython3",
   "version": "3.12.8"
  }
 },
 "nbformat": 4,
 "nbformat_minor": 5
}
