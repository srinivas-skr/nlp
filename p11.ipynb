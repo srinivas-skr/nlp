{
 "cells": [
  {
   "cell_type": "code",
   "execution_count": 7,
   "id": "cab8a75a-78c3-41a2-84ac-2cfe0a0f355b",
   "metadata": {},
   "outputs": [
    {
     "name": "stdout",
     "output_type": "stream",
     "text": [
      "Requirement already satisfied: numpy in c:\\users\\vikas\\appdata\\local\\programs\\python\\python312\\lib\\site-packages (1.26.4)\n",
      "AND Gate Predictions:\n",
      "Input: [0 0] -> Predicted: 0\n",
      "Input: [0 1] -> Predicted: 0\n",
      "Input: [1 0] -> Predicted: 0\n",
      "Input: [1 1] -> Predicted: 1\n",
      "\n",
      "OR Gate Predictions:\n",
      "Input: [0 0] -> Predicted: 0\n",
      "Input: [0 1] -> Predicted: 1\n",
      "Input: [1 0] -> Predicted: 1\n",
      "Input: [1 1] -> Predicted: 1\n"
     ]
    }
   ],
   "source": [
    "!pip install numpy\n",
    "\n",
    "import numpy as np\n",
    "\n",
    "x = np.array([[0, 0], [0, 1], [1, 0], [1, 1]])\n",
    "y_and = np.array([0, 0, 0, 1])\n",
    "y_or = np.array([0, 1, 1, 1])\n",
    "\n",
    "def sigmoid(x):\n",
    "    return 1 / (1 + np.exp(-x))\n",
    "\n",
    "def train_gate(x, y, epochs=1000, lr=0.01):\n",
    "    w1, w2, bias = 0.1, 0.9, 0.25\n",
    "    for _ in range(epochs):\n",
    "        for i in range(4):\n",
    "            result = sigmoid(x[i][0] * w1 + x[i][1] * w2 + bias)\n",
    "            w1 += lr * (y[i] - result) * x[i][0]\n",
    "            w2 += lr * (y[i] - result) * x[i][1]\n",
    "            bias += lr * (y[i] - result)\n",
    "    return w1, w2, bias\n",
    "\n",
    "def predict_gate(x, w1, w2, bias):\n",
    "    return [1 if sigmoid(x[i][0] * w1 + x[i][1] * w2 + bias) > 0.5 else 0 for i in range(4)]\n",
    "\n",
    "w1_and, w2_and, bias_and = train_gate(x, y_and)\n",
    "w1_or, w2_or, bias_or = train_gate(x, y_or)\n",
    "\n",
    "print(\"AND Gate Predictions:\")\n",
    "for i, p in enumerate(predict_gate(x, w1_and, w2_and, bias_and)):\n",
    "    print(f\"Input: {x[i]} -> Predicted: {p}\")\n",
    "\n",
    "print(\"\\nOR Gate Predictions:\")\n",
    "for i, p in enumerate(predict_gate(x, w1_or, w2_or, bias_or)):\n",
    "    print(f\"Input: {x[i]} -> Predicted: {p}\")"
   ]
  },
  {
   "cell_type": "code",
   "execution_count": null,
   "id": "64f7e51d-6a1e-4a52-9d54-2e62012d2fae",
   "metadata": {},
   "outputs": [],
   "source": []
  }
 ],
 "metadata": {
  "kernelspec": {
   "display_name": "Python 3 (ipykernel)",
   "language": "python",
   "name": "python3"
  },
  "language_info": {
   "codemirror_mode": {
    "name": "ipython",
    "version": 3
   },
   "file_extension": ".py",
   "mimetype": "text/x-python",
   "name": "python",
   "nbconvert_exporter": "python",
   "pygments_lexer": "ipython3",
   "version": "3.12.8"
  }
 },
 "nbformat": 4,
 "nbformat_minor": 5
}
